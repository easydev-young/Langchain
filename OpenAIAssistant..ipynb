{
 "cells": [
  {
   "cell_type": "code",
   "execution_count": 14,
   "metadata": {},
   "outputs": [],
   "source": [
    "from langchain.utilities import DuckDuckGoSearchAPIWrapper\n",
    "from langchain.utilities import WikipediaAPIWrapper\n",
    "\n",
    "import json\n",
    "\n",
    "\n",
    "def DuckDuckGoSearch(inputs):\n",
    "    ddg = DuckDuckGoSearchAPIWrapper()\n",
    "    query = inputs[\"query\"]\n",
    "    return ddg.run(query)\n",
    "\n",
    "\n",
    "def WikipediaSearch(inputs):\n",
    "    wikipedia = WikipediaAPIWrapper()\n",
    "    query = inputs[\"query\"]\n",
    "    return wikipedia.run(query)\n",
    "\n",
    "functions_map = {\n",
    "    \"DuckDuckGoSearch\": DuckDuckGoSearch,\n",
    "    \"WikipediaSearch\": WikipediaSearch,\n",
    "}\n",
    "\n",
    "functions = [\n",
    "    {\n",
    "        \"type\": \"function\",\n",
    "        \"function\": {\n",
    "            \"name\": \"DuckDuckGoSearch\",\n",
    "            \"description\": \"Use this tool to search on DuckDuckGo.\",\n",
    "            \"parameters\": {\n",
    "                \"type\": \"object\",\n",
    "                \"properties\": {\n",
    "                    \"query\": {\n",
    "                        \"type\": \"string\",\n",
    "                        \"description\": \"The query you will search for\",\n",
    "                    }\n",
    "                },\n",
    "                \"required\": [\"query\"],\n",
    "            },\n",
    "        },\n",
    "    },\n",
    "    {\n",
    "        \"type\": \"function\",\n",
    "        \"function\": {\n",
    "            \"name\": \"WikipediaSearch\",\n",
    "            \"description\": \"Use this tool to search on Wikipedia.\",\n",
    "            \"parameters\": {\n",
    "                \"type\": \"object\",\n",
    "                \"properties\": {\n",
    "                    \"query\": {\n",
    "                        \"type\": \"string\",\n",
    "                        \"description\": \"The query you will search for\",\n",
    "                    }\n",
    "                },\n",
    "                \"required\": [\"query\"],\n",
    "            },\n",
    "        },\n",
    "    },\n",
    "]"
   ]
  },
  {
   "cell_type": "code",
   "execution_count": 15,
   "metadata": {},
   "outputs": [],
   "source": [
    "import openai as client\n",
    "\n",
    "# assistant = client.beta.assistants.create(\n",
    "#     name=\"Research Assistant\",\n",
    "#     instructions=\"The agent attempts to search DuckDuckGo and Wikipedia, extracts the content, and then provides the research to you.\",\n",
    "#     model=\"gpt-3.5-turbo\",\n",
    "#     tools=functions,\n",
    "# )\n",
    "assistant_id = \"asst_TMRasTUZsY9P46mtYen2q4Nv\""
   ]
  },
  {
   "cell_type": "code",
   "execution_count": 16,
   "metadata": {},
   "outputs": [],
   "source": [
    "thread = client.beta.threads.create(\n",
    "    messages=[\n",
    "        {\n",
    "            \"role\": \"user\",\n",
    "            \"content\": \"Research about the XZ backdoor\",\n",
    "        }\n",
    "    ]\n",
    ")\n",
    "#thread"
   ]
  },
  {
   "cell_type": "code",
   "execution_count": 17,
   "metadata": {},
   "outputs": [],
   "source": [
    "run = client.beta.threads.runs.create(\n",
    "    thread_id=thread.id,\n",
    "    assistant_id=assistant_id,\n",
    ")\n",
    "#run"
   ]
  },
  {
   "cell_type": "code",
   "execution_count": 18,
   "metadata": {},
   "outputs": [],
   "source": [
    "def get_run(run_id, thread_id):\n",
    "    return client.beta.threads.runs.retrieve(\n",
    "        run_id=run_id,\n",
    "        thread_id=thread_id,\n",
    "    )\n",
    "\n",
    "\n",
    "def send_message(thread_id, content):\n",
    "    return client.beta.threads.messages.create(\n",
    "        thread_id=thread_id, role=\"user\", content=content\n",
    "    )\n",
    "\n",
    "\n",
    "def get_messages(thread_id):\n",
    "    messages = client.beta.threads.messages.list(thread_id=thread_id)\n",
    "    messages = list(messages)\n",
    "    messages.reverse()\n",
    "    for message in messages:\n",
    "        print(f\"{message.role}: {message.content[0].text.value}\")\n",
    "\n",
    "\n",
    "def get_tool_outputs(run_id, thread_id):\n",
    "    run = get_run(run_id, thread_id)\n",
    "    outputs = []\n",
    "    for action in run.required_action.submit_tool_outputs.tool_calls:\n",
    "        action_id = action.id\n",
    "        function = action.function\n",
    "        print(f\"Calling function: {function.name} with arg {function.arguments}\")\n",
    "        outputs.append(\n",
    "            {\n",
    "                \"output\": functions_map[function.name](json.loads(function.arguments)),\n",
    "                \"tool_call_id\": action_id,\n",
    "            }\n",
    "        )\n",
    "    return outputs\n",
    "\n",
    "\n",
    "def submit_tool_outputs(run_id, thread_id):\n",
    "    outpus = get_tool_outputs(run_id, thread_id)\n",
    "    return client.beta.threads.runs.submit_tool_outputs(\n",
    "        run_id=run_id,\n",
    "        thread_id=thread_id,\n",
    "        tool_outputs=outpus,\n",
    "    )"
   ]
  },
  {
   "cell_type": "code",
   "execution_count": 22,
   "metadata": {},
   "outputs": [
    {
     "data": {
      "text/plain": [
       "'completed'"
      ]
     },
     "execution_count": 22,
     "metadata": {},
     "output_type": "execute_result"
    }
   ],
   "source": [
    "get_run(run.id, thread.id).status"
   ]
  },
  {
   "cell_type": "code",
   "execution_count": 21,
   "metadata": {},
   "outputs": [
    {
     "name": "stdout",
     "output_type": "stream",
     "text": [
      "Calling function: DuckDuckGoSearch with arg {\"query\": \"XZ backdoor\"}\n",
      "Calling function: WikipediaSearch with arg {\"query\": \"XZ backdoor\"}\n"
     ]
    },
    {
     "data": {
      "text/plain": [
       "Run(id='run_sYNXYEgkiMC98XbjlVPKeCDD', assistant_id='asst_TMRasTUZsY9P46mtYen2q4Nv', cancelled_at=None, completed_at=None, created_at=1713112583, expires_at=1713113183, failed_at=None, file_ids=[], instructions='The agent attempts to search DuckDuckGo and Wikipedia, extracts the content, and then provides the research to you.', last_error=None, metadata={}, model='gpt-3.5-turbo', object='thread.run', required_action=None, started_at=1713112583, status='queued', thread_id='thread_NIHGXtYnB4aHsuVh8WyrErvw', tools=[FunctionTool(function=FunctionDefinition(name='DuckDuckGoSearch', description='Use this tool to search on DuckDuckGo.', parameters={'type': 'object', 'properties': {'query': {'type': 'string', 'description': 'The query you will search for'}}, 'required': ['query']}), type='function'), FunctionTool(function=FunctionDefinition(name='WikipediaSearch', description='Use this tool to search on Wikipedia.', parameters={'type': 'object', 'properties': {'query': {'type': 'string', 'description': 'The query you will search for'}}, 'required': ['query']}), type='function')], usage=None, temperature=1.0, max_completion_tokens=None, max_prompt_tokens=None, truncation_strategy={'type': 'auto', 'last_messages': None}, incomplete_details=None, response_format='auto', tool_choice='auto')"
      ]
     },
     "execution_count": 21,
     "metadata": {},
     "output_type": "execute_result"
    }
   ],
   "source": [
    "submit_tool_outputs(run.id, thread.id)"
   ]
  },
  {
   "cell_type": "code",
   "execution_count": 23,
   "metadata": {},
   "outputs": [
    {
     "name": "stdout",
     "output_type": "stream",
     "text": [
      "user: Research about the XZ backdoor\n",
      "assistant: ### DuckDuckGo Search Results:\n",
      "- Malicious code added to xz Utils versions 5.6.0 and 5.6.1 modified the software's functionality, manipulating sshd (executable file for remote connections).\n",
      "- Backdoor vulnerability (CVE-2024-3094) affects versions 5.6.0 and 5.6.1; organizations advised to revert to a non-compromised version like 5.4.\n",
      "- Discovered by Microsoft developer Andres Freund, impacting widely used Linux distributions (Red Hat, Debian).\n",
      "\n",
      "### Wikipedia Search Results:\n",
      "- **XZ Utils Backdoor**: Discovered on March 29, 2024, by Andres Freund in xz utility, liblzma library versions 5.6.0 and 5.6.1.\n",
      "- **Backdoor Description**: Covert method to bypass authentication/encryption, allowing remote code execution; Assigned CVE-2024-3094 with a CVSS score of 10.0.\n",
      "- **Backdoor Definition**: A hidden method of bypassing security measures, covertly accessing systems or data for malicious purposes.\n",
      "\n",
      "Would you like more information on any specific aspect of the XZ backdoor?\n"
     ]
    }
   ],
   "source": [
    "get_messages(thread.id)"
   ]
  }
 ],
 "metadata": {
  "kernelspec": {
   "display_name": "env",
   "language": "python",
   "name": "python3"
  },
  "language_info": {
   "codemirror_mode": {
    "name": "ipython",
    "version": 3
   },
   "file_extension": ".py",
   "mimetype": "text/x-python",
   "name": "python",
   "nbconvert_exporter": "python",
   "pygments_lexer": "ipython3",
   "version": "3.10.12"
  }
 },
 "nbformat": 4,
 "nbformat_minor": 2
}
