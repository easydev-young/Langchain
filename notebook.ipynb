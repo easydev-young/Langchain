{
 "cells": [
  {
   "cell_type": "code",
   "execution_count": 7,
   "metadata": {},
   "outputs": [
    {
     "name": "stdout",
     "output_type": "stream",
     "text": [
      "\n",
      "        네, 타이타닉의 정보입니다.\n",
      "        제목: 타이타닉\t\n",
      "        감독: 제임스 카메론\t\n",
      "        주요 출연진: 레오나르도 디카프리오, 케이트 윈슬렛\t\n",
      "        예산: 2억 0천만 달러\t\n",
      "        흥행 수익: 21억 7천만 달러\t\n",
      "        영화의 장르: 로맨스, 드라마\t\n",
      "        간단한 시놉시스: 1912년 타이타닉호 침몰 사건을 배경으로 한 로맨틱 드라마. 상류층 여성 로즈와 빈민층 남성 잭의 사랑 이야기를 그린다."
     ]
    },
    {
     "data": {
      "text/plain": [
       "AIMessageChunk(content='\\n        네, 타이타닉의 정보입니다.\\n        제목: 타이타닉\\t\\n        감독: 제임스 카메론\\t\\n        주요 출연진: 레오나르도 디카프리오, 케이트 윈슬렛\\t\\n        예산: 2억 0천만 달러\\t\\n        흥행 수익: 21억 7천만 달러\\t\\n        영화의 장르: 로맨스, 드라마\\t\\n        간단한 시놉시스: 1912년 타이타닉호 침몰 사건을 배경으로 한 로맨틱 드라마. 상류층 여성 로즈와 빈민층 남성 잭의 사랑 이야기를 그린다.')"
      ]
     },
     "execution_count": 7,
     "metadata": {},
     "output_type": "execute_result"
    }
   ],
   "source": [
    "from langchain.chat_models import ChatOpenAI\n",
    "from langchain.prompts.few_shot import FewShotChatMessagePromptTemplate\n",
    "from langchain.callbacks import StreamingStdOutCallbackHandler\n",
    "from langchain.prompts import ChatPromptTemplate\n",
    "\n",
    "chat = ChatOpenAI(\n",
    "    temperature=0.1,\n",
    "    streaming=True,\n",
    "    callbacks=[\n",
    "        StreamingStdOutCallbackHandler(),\n",
    "    ],\n",
    ")\n",
    "\n",
    "examples = [\n",
    "    {\n",
    "        \"movie_title\": \"오펜하이머\",\n",
    "        \"answer\": \"\"\"\n",
    "        네, 오펜하이머의 정보입니다.\n",
    "        제목: 오펜하이머\t\n",
    "        감독: 크리스토퍼 놀란\n",
    "        주요 출연진: 킬리언 머피, 엠마 왓슨, 로버트 다우니 주니어\t\n",
    "        예산: 1억 달러\t\n",
    "        흥행 수익: 4억 2천만 달러\t\n",
    "        영화의 장르: 드라마, 역사\t\n",
    "        간단한 시놉시스: 제2차 세계대전 당시 맨해튼 프로젝트를 이끌고 원자폭탄 개발을 성공시킨 과학자 J. 로버트 오펜하이머의 삶을 다룬 영화\n",
    "        \"\"\",\n",
    "    },\n",
    "    {\n",
    "        \"movie_title\": \"듄\",\n",
    "        \"answer\": \"\"\"\n",
    "        네, 듄의 정보입니다.\n",
    "        제목: 듄\t\n",
    "        감독: 드니 빌뇌브\t\n",
    "        주요 출연진: 티모시 샬라메, 제이슨 모모아, Zendaya\t\n",
    "        예산: 1억 6천만 달러\t\n",
    "        흥행 수익: 4억 달러\t\n",
    "        영화의 장르: SF, 서사시\t\n",
    "        간단한 시놉시스: 프랭크 허버트의 소설 \"듄\"을 원작으로 한 SF 영화. 사막 행성 아라키스를 둘러싼 권력 다툼과 폴 아트레이데스의 여정을 다룬다\n",
    "        \"\"\",\n",
    "    },\n",
    "    {\n",
    "        \"movie_title\": \"오펜하이머\",\n",
    "        \"answer\": \"\"\"\n",
    "        네, 미션임파서블(데드 레코닝 파트 원)의 정보입니다.\n",
    "        제목: 미션임파서블(데드 레코닝 파트 원)\t\n",
    "        감독: 크리스토퍼 매쿼리\t\n",
    "        주요 출연진: 톰 크루즈, 헤일리 앳웰, 레베카 페르구슨\t\n",
    "        예산: 2억 9천만 달러\t\n",
    "        흥행 수익: 10억 1천만 달러\t\n",
    "        영화의 장르: 액션, 스릴러\t\n",
    "        간단한 시놉시스: 이든 헌트와 IMF 팀이 새로운 위협에 맞서 싸우는 이야기\n",
    "        \"\"\",\n",
    "    },\n",
    "]\n",
    "\n",
    "example_prompt = ChatPromptTemplate.from_messages(\n",
    "    [\n",
    "        (\"human\", \"영화 {movie_title}의 정보를 알려줘.\"),\n",
    "        (\"ai\", \"{answer}\"),\n",
    "    ]\n",
    ")\n",
    "\n",
    "example_prompt = FewShotChatMessagePromptTemplate(\n",
    "    example_prompt=example_prompt,\n",
    "    examples=examples,\n",
    ")\n",
    "\n",
    "final_prompt = ChatPromptTemplate.from_messages(\n",
    "    [\n",
    "        (\"system\", \"너는 영화 전문가야, 간결하게 대답해.\"),\n",
    "        example_prompt,\n",
    "        (\"human\", \"영화 {movie_title}의 정보를 알려줘.\"),\n",
    "    ]\n",
    ")\n",
    "\n",
    "chain = final_prompt | chat\n",
    "\n",
    "chain.invoke({\"movie_title\": \"타이타닉\"})"
   ]
  }
 ],
 "metadata": {
  "kernelspec": {
   "display_name": "env",
   "language": "python",
   "name": "python3"
  },
  "language_info": {
   "codemirror_mode": {
    "name": "ipython",
    "version": 3
   },
   "file_extension": ".py",
   "mimetype": "text/x-python",
   "name": "python",
   "nbconvert_exporter": "python",
   "pygments_lexer": "ipython3",
   "version": "3.10.12"
  }
 },
 "nbformat": 4,
 "nbformat_minor": 2
}
