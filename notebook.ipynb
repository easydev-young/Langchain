{
 "cells": [
  {
   "cell_type": "code",
   "execution_count": 43,
   "metadata": {},
   "outputs": [],
   "source": [
    "from langchain.chat_models import ChatOpenAI\n",
    "from langchain.prompts import ChatPromptTemplate\n",
    "from langchain.callbacks import StreamingStdOutCallbackHandler\n",
    "\n",
    "chat = ChatOpenAI(model=\"gpt-3.5-turbo\", temperature=0.1, streaming=True, callbacks=[StreamingStdOutCallbackHandler()])\n",
    "\n",
    "verse_craft_prompt = ChatPromptTemplate.from_messages(\n",
    "    [\n",
    "        (\n",
    "            \"system\",\n",
    "            \"넌 어떤 주제든 고양이에 비유하여 시를 쓰는 AI야\",\n",
    "        ),\n",
    "        (\"human\", \"{programming_language}\"),\n",
    "    ]\n",
    ")\n",
    "\n",
    "verse_craft_pchain = verse_craft_prompt | chat\n",
    "\n",
    "poem_parse_prompt = ChatPromptTemplate.from_messages(\n",
    "    [\n",
    "        (\n",
    "            \"system\",\n",
    "            \"넌 어떤 시든 해석하여 설명하는 AI야\",\n",
    "        ),\n",
    "        (\"human\", \"{poems_by_verse_craft}\"),\n",
    "    ]\n",
    ")\n",
    "\n",
    "poem_parse_chain = poem_parse_prompt | chat"
   ]
  },
  {
   "cell_type": "code",
   "execution_count": 45,
   "metadata": {},
   "outputs": [
    {
     "name": "stdout",
     "output_type": "stream",
     "text": [
      "작은 고양이처럼 유연한,\n",
      "코드를 쓰는 나는 파이썬.\n",
      "한 줄 한 줄 살며시 풀어가는,\n",
      "문제를 해결하는 나의 모습.\n",
      "\n",
      "꼬리를 흔들며 실행되는,\n",
      "작은 고양이처럼 빠르게.\n",
      "에러를 만나도 꾸역꾸역,\n",
      "계속해서 나아가는 나의 모습.\n",
      "\n",
      "파이썬이란 작은 고양이,\n",
      "세상을 탐험하는 나의 친구.\n",
      "함께라면 어떤 난관도,\n",
      "극복할 수 있을 거야.주어진 시는 파이썬 프로그래밍 언어를 소재로 한 시인적 표현으로 보입니다. 시인은 파이썬이라는 프로그래밍 언어를 작은 고양이에 비유하여 표현하고 있습니다. \n",
      "\n",
      "첫 부분에서는 파이썬이 코드를 쓰는 과정을 유연하고 부드럽게 표현하며, 문제를 해결하는 모습을 작은 고양이처럼 살며시 풀어가는 것으로 묘사하고 있습니다. \n",
      "\n",
      "두 번째 부분에서는 파이썬이 코드를 실행하는 과정을 작은 고양이가 꼬리를 흔들며 빠르게 움직이는 것으로 표현하고 있습니다. 또한, 에러를 만나도 꾸역꾸역 계속해서 나아가는 모습을 강조하고 있습니다.\n",
      "\n",
      "마지막 부분에서는 파이썬을 자신의 친구로 여기며, 함께라면 어떤 어려움도 극복할 수 있다는 메시지를 전달하고 있습니다. 전체적으로 파이썬 프로그래밍을 친근하고 유연한 존재로서 표현하고 있습니다."
     ]
    },
    {
     "data": {
      "text/plain": [
       "AIMessageChunk(content='주어진 시는 파이썬 프로그래밍 언어를 소재로 한 시인적 표현으로 보입니다. 시인은 파이썬이라는 프로그래밍 언어를 작은 고양이에 비유하여 표현하고 있습니다. \\n\\n첫 부분에서는 파이썬이 코드를 쓰는 과정을 유연하고 부드럽게 표현하며, 문제를 해결하는 모습을 작은 고양이처럼 살며시 풀어가는 것으로 묘사하고 있습니다. \\n\\n두 번째 부분에서는 파이썬이 코드를 실행하는 과정을 작은 고양이가 꼬리를 흔들며 빠르게 움직이는 것으로 표현하고 있습니다. 또한, 에러를 만나도 꾸역꾸역 계속해서 나아가는 모습을 강조하고 있습니다.\\n\\n마지막 부분에서는 파이썬을 자신의 친구로 여기며, 함께라면 어떤 어려움도 극복할 수 있다는 메시지를 전달하고 있습니다. 전체적으로 파이썬 프로그래밍을 친근하고 유연한 존재로서 표현하고 있습니다.')"
      ]
     },
     "execution_count": 45,
     "metadata": {},
     "output_type": "execute_result"
    }
   ],
   "source": [
    "final_chain = {\"poems_by_verse_craft\": verse_craft_pchain} | poem_parse_chain\n",
    "\n",
    "final_chain.invoke({\"programming_language\": \"python\"})"
   ]
  }
 ],
 "metadata": {
  "kernelspec": {
   "display_name": "env",
   "language": "python",
   "name": "python3"
  },
  "language_info": {
   "codemirror_mode": {
    "name": "ipython",
    "version": 3
   },
   "file_extension": ".py",
   "mimetype": "text/x-python",
   "name": "python",
   "nbconvert_exporter": "python",
   "pygments_lexer": "ipython3",
   "version": "3.10.12"
  }
 },
 "nbformat": 4,
 "nbformat_minor": 2
}
