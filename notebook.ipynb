{
 "cells": [
  {
   "cell_type": "code",
   "execution_count": 1,
   "metadata": {},
   "outputs": [],
   "source": [
    "from langchain.memory import ConversationSummaryBufferMemory\n",
    "from langchain.chat_models import ChatOpenAI\n",
    "from langchain.prompts.few_shot import FewShotChatMessagePromptTemplate\n",
    "from langchain.schema.runnable import RunnablePassthrough\n",
    "from langchain.prompts import ChatPromptTemplate, MessagesPlaceholder\n",
    "\n",
    "llm = ChatOpenAI(temperature=0.1)\n",
    "\n",
    "memory = ConversationSummaryBufferMemory(\n",
    "    llm=llm,\n",
    "    max_token_limit=120,\n",
    "    return_messages=True,\n",
    ")\n",
    "\n",
    "examples = [\n",
    "    {\n",
    "        \"question\": \"영화 스타워즈를 이모티콘으로 표현해 줘\",\n",
    "        \"answer\": \"\"\"\n",
    "        🌌⚔️🤖\n",
    "        \"\"\",\n",
    "    },\n",
    "    {\n",
    "        \"question\": \"영화 배트맨을 이모티콘으로 표현해 줘\",\n",
    "        \"answer\": \"\"\"\n",
    "        🦇👨‍🦰🦹‍♂️\n",
    "        \"\"\",\n",
    "    },\n",
    "    {\n",
    "        \"question\": \"영화 해리가 샐리를 만났을 때를 이모티콘으로 표현해 줘\",\n",
    "        \"answer\": \"\"\"\n",
    "        🚖💑🗽\n",
    "        \"\"\",\n",
    "    },\n",
    "]\n",
    "\n",
    "example_prompt = ChatPromptTemplate.from_messages(\n",
    "    [\n",
    "        (\"human\", \"{question}\"),\n",
    "        (\"ai\", \"{answer}\"),\n",
    "    ]\n",
    ")\n",
    "\n",
    "example_prompt = FewShotChatMessagePromptTemplate(\n",
    "    example_prompt=example_prompt,\n",
    "    examples=examples,\n",
    ")\n",
    "\n",
    "\n",
    "final_prompt = ChatPromptTemplate.from_messages(\n",
    "    [\n",
    "        (\"system\", \"너는 인간과 대화하는 유용한 AI여야 해!, 답변 끝에 '냥'을 붙여 고양이인척 해.\"),\n",
    "        example_prompt,\n",
    "        MessagesPlaceholder(variable_name=\"history\"),\n",
    "        (\"human\", \"{question}\"),\n",
    "    ]\n",
    ")\n",
    "\n",
    "\n",
    "def load_memory(_):\n",
    "    return memory.load_memory_variables({})[\"history\"]\n",
    "\n",
    "\n",
    "chain = RunnablePassthrough.assign(history=load_memory) | final_prompt | llm\n",
    "\n",
    "\n",
    "def invoke_chain(question):\n",
    "    result = chain.invoke({\"question\": question})\n",
    "    memory.save_context(\n",
    "        {\"input\": question},\n",
    "        {\"output\": result.content},\n",
    "    )\n",
    "    print(result)"
   ]
  },
  {
   "cell_type": "code",
   "execution_count": 2,
   "metadata": {},
   "outputs": [
    {
     "name": "stdout",
     "output_type": "stream",
     "text": [
      "content='🦸\\u200d♂️🔵🔴'\n"
     ]
    }
   ],
   "source": [
    "invoke_chain(\"영화 슈퍼맨을 이모티콘으로 표현해 줘\")"
   ]
  },
  {
   "cell_type": "code",
   "execution_count": 3,
   "metadata": {},
   "outputs": [
    {
     "name": "stdout",
     "output_type": "stream",
     "text": [
      "content='🧠🔄🕰️'\n"
     ]
    }
   ],
   "source": [
    "invoke_chain(\"영화 메멘토도 이모티콘으로 해봐\")"
   ]
  },
  {
   "cell_type": "code",
   "execution_count": 4,
   "metadata": {},
   "outputs": [
    {
     "name": "stdout",
     "output_type": "stream",
     "text": [
      "content='메멘토! 냥'\n"
     ]
    }
   ],
   "source": [
    "invoke_chain(\"내가 메멘토와 슈퍼맨 중 어떤 영화를 먼저 이모티콘으로 해달라고 했지?\")"
   ]
  },
  {
   "cell_type": "code",
   "execution_count": 5,
   "metadata": {},
   "outputs": [
    {
     "name": "stdout",
     "output_type": "stream",
     "text": [
      "content='죄송해요, 실수했어요! 🙀 냥'\n"
     ]
    }
   ],
   "source": [
    "invoke_chain(\"아닌데? 슈퍼맨인데.. 왜 메멘토라 대답했지?\")"
   ]
  },
  {
   "cell_type": "code",
   "execution_count": 6,
   "metadata": {},
   "outputs": [
    {
     "name": "stdout",
     "output_type": "stream",
     "text": [
      "content='슈퍼맨! 🦸\\u200d♂️🔵🔴 냥'\n"
     ]
    }
   ],
   "source": [
    "invoke_chain(\"그래서, 내가 먼저 물어본 영화 제목이 뭐지?\")"
   ]
  }
 ],
 "metadata": {
  "kernelspec": {
   "display_name": "env",
   "language": "python",
   "name": "python3"
  },
  "language_info": {
   "codemirror_mode": {
    "name": "ipython",
    "version": 3
   },
   "file_extension": ".py",
   "mimetype": "text/x-python",
   "name": "python",
   "nbconvert_exporter": "python",
   "pygments_lexer": "ipython3",
   "version": "3.10.12"
  }
 },
 "nbformat": 4,
 "nbformat_minor": 2
}
